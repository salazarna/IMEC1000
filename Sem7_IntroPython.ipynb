{
  "nbformat": 4,
  "nbformat_minor": 0,
  "metadata": {
    "colab": {
      "name": "Sem7_IntroPython.ipynb",
      "provenance": [],
      "collapsed_sections": [
        "Vvh-BgCuNs6D"
      ],
      "toc_visible": true
    },
    "kernelspec": {
      "name": "python3",
      "display_name": "Python 3"
    }
  },
  "cells": [
    {
      "cell_type": "markdown",
      "metadata": {
        "id": "iOzweiFixpp_"
      },
      "source": [
        "# **Semana 7: Introducción a Python con Ejemplo Turbina**\n",
        "#### IMEC1000: Introducción a Ing. Mecánica"
      ]
    },
    {
      "cell_type": "markdown",
      "metadata": {
        "id": "C2FF18Gez2js"
      },
      "source": [
        "## **1. Tipos de Variables**"
      ]
    },
    {
      "cell_type": "code",
      "metadata": {
        "id": "Bh5r6u-zyvoU",
        "outputId": "10f5b508-0268-4597-f658-c8a1b0f2db95",
        "colab": {
          "base_uri": "https://localhost:8080/",
          "height": 87
        }
      },
      "source": [
        "#Int - Números Enteros\n",
        "variables_int = [1, 2, 3, 4, 5]\n",
        "\n",
        "#String - Texto entre '' o \"\"\n",
        "variables_string = ['Hola', 'Cómo', \"Están\", 'el Día de', \"Hoy?\"]\n",
        "\n",
        "#Bool - Booleanas: True o False\n",
        "variables_bool = [True, False]\n",
        "\n",
        "#Float - Números Reales\n",
        "variables_float = [1/3, 1.5, 5.1]\n",
        "\n",
        "print(variables_int,'\\n', variables_string,'\\n', variables_bool,'\\n', variables_float)"
      ],
      "execution_count": 1,
      "outputs": [
        {
          "output_type": "stream",
          "text": [
            "[1, 2, 3, 4, 5] \n",
            " ['Hola', 'Cómo', 'Están', 'el Día de', 'Hoy?'] \n",
            " [True, False] \n",
            " [0.3333333333333333, 1.5, 5.1]\n"
          ],
          "name": "stdout"
        }
      ]
    },
    {
      "cell_type": "markdown",
      "metadata": {
        "id": "2e0hhTZXz_tY"
      },
      "source": [
        "#### 1.1. Juguemos con Esto - Ejm. 1\n",
        "\n",
        "---"
      ]
    },
    {
      "cell_type": "code",
      "metadata": {
        "id": "xP9tvJ6P0HW-",
        "outputId": "6f705f8f-35b7-4bad-aadc-aee298ae126e",
        "colab": {
          "base_uri": "https://localhost:8080/",
          "height": 70
        }
      },
      "source": [
        "print('Hola, ¿Cómo termina la semana, qué tal el viernes?')\n",
        "respuesta = input()\n",
        "\n",
        "print('Oiga, pues', respuesta)"
      ],
      "execution_count": 2,
      "outputs": [
        {
          "output_type": "stream",
          "text": [
            "Hola, ¿Cómo termina la semana, qué tal el viernes?\n",
            "excelente :)\n",
            "Oiga, pues excelente :)\n"
          ],
          "name": "stdout"
        }
      ]
    },
    {
      "cell_type": "markdown",
      "metadata": {
        "id": "wVff2d373JtB"
      },
      "source": [
        "#### 1.2. Juguemos con Esto - Ejm. 2\n",
        "---"
      ]
    },
    {
      "cell_type": "code",
      "metadata": {
        "id": "a2qJWGlc1kYI",
        "outputId": "127fc2ed-9336-4f01-c9e2-2dd139b4dfca",
        "colab": {
          "base_uri": "https://localhost:8080/",
          "height": 105
        }
      },
      "source": [
        "print('Seleccione un número: ')\n",
        "num1 = input()\n",
        "\n",
        "print('Seleccione otro número: ')\n",
        "num2 = input()\n",
        "\n",
        "#Operación\n",
        "suma = int(num1) + int(num2)\n",
        "print('La suma es: ', suma)\n",
        "\n"
      ],
      "execution_count": 3,
      "outputs": [
        {
          "output_type": "stream",
          "text": [
            "Seleccione un número: \n",
            "5\n",
            "Seleccione otro número: \n",
            "6\n",
            "La suma es:  11\n"
          ],
          "name": "stdout"
        }
      ]
    },
    {
      "cell_type": "markdown",
      "metadata": {
        "id": "KcXh0ldb3k_l"
      },
      "source": [
        "\n",
        "## **2. Condicionales y Pruebas *If-Elif-Else***\n",
        "\n",
        "Los tipos de condicionales son:\n",
        "\n",
        "*   '<': Menor a\n",
        "*   '>': Mayor a\n",
        "*   '<=': Menor igual a\n",
        "*   '>=': Mayor igual a\n",
        "*   '==': Igual a\n",
        "*   '!=': Diferente a\n"
      ]
    },
    {
      "cell_type": "code",
      "metadata": {
        "id": "ESvJByAw8oxU",
        "outputId": "0a7ea24d-ead4-48fc-deea-78f472c5793d",
        "colab": {
          "base_uri": "https://localhost:8080/",
          "height": 87
        }
      },
      "source": [
        "num1 = input('Seleccione un número: ')\n",
        "num2 = input('Seleccione otro número: ')\n",
        "oper = input('Seleccione una operación: ')\n",
        "\n",
        "#Operación Condicional\n",
        "if oper == '+':\n",
        "  suma = int(num1) + int(num2)\n",
        "  print('La suma es: ', suma)\n",
        "\n",
        "elif oper == '-':\n",
        "  resta = int(num1) - int(num2)\n",
        "  print('La resta es: ', resta) \n",
        "\n",
        "elif oper == '/':\n",
        "  if int(num2) == 0:\n",
        "    print('¡No se puede dividir entre 0!') \n",
        "  else:\n",
        "    divis = int(num1) / int(num2)\n",
        "    print('La división es: ', divis)\n",
        "\n",
        "elif oper == '*':\n",
        "  multip = int(num1) * int(num2)\n",
        "  print('La multiplicación es: ', multip)\n",
        "\n",
        "else:\n",
        "  print('ERROR: No seleccionó un operador correcto.')\n",
        "\n",
        "#Operación con Doble Condicional\n",
        "if num1 == num2 and int(num1) + int(num2) > 10:\n",
        "  print(\"Ha escogido el mismo número y su suma es mayor a 10.\") "
      ],
      "execution_count": 4,
      "outputs": [
        {
          "output_type": "stream",
          "text": [
            "Seleccione un número: 5\n",
            "Seleccione otro número: 0\n",
            "Seleccione una operación: /\n",
            "¡No se puede dividir entre 0!\n"
          ],
          "name": "stdout"
        }
      ]
    },
    {
      "cell_type": "markdown",
      "metadata": {
        "id": "3KzypEeSBTcj"
      },
      "source": [
        "## **3. For Loops**"
      ]
    },
    {
      "cell_type": "markdown",
      "metadata": {
        "id": "9BtkfYyaEuYw"
      },
      "source": [
        "#### 3.1. Juguemos con Esto - Ejm. 1\n",
        "---"
      ]
    },
    {
      "cell_type": "code",
      "metadata": {
        "id": "hUO4ZQ8KAWth",
        "outputId": "7a4a1b5c-545f-4a8e-cfe3-aafa586a3772",
        "colab": {
          "base_uri": "https://localhost:8080/",
          "height": 105
        }
      },
      "source": [
        "for x in range(0, 10, 2):   #range(star, stop -no lo incluye-, step)\n",
        "  print(x)"
      ],
      "execution_count": 5,
      "outputs": [
        {
          "output_type": "stream",
          "text": [
            "0\n",
            "2\n",
            "4\n",
            "6\n",
            "8\n"
          ],
          "name": "stdout"
        }
      ]
    },
    {
      "cell_type": "markdown",
      "metadata": {
        "id": "8Jgzd0_oEzWm"
      },
      "source": [
        "#### 3.2. Juguemos con Esto - Ejm. 2\n",
        "---"
      ]
    },
    {
      "cell_type": "code",
      "metadata": {
        "id": "0j7IhSivEC4T",
        "outputId": "735bafa4-3199-43be-8a24-81de60b01599",
        "colab": {
          "base_uri": "https://localhost:8080/",
          "height": 230
        }
      },
      "source": [
        "for caracter in 'Muy sencillo':\n",
        "  print(caracter)"
      ],
      "execution_count": 6,
      "outputs": [
        {
          "output_type": "stream",
          "text": [
            "M\n",
            "u\n",
            "y\n",
            " \n",
            "s\n",
            "e\n",
            "n\n",
            "c\n",
            "i\n",
            "l\n",
            "l\n",
            "o\n"
          ],
          "name": "stdout"
        }
      ]
    },
    {
      "cell_type": "markdown",
      "metadata": {
        "id": "mwVM2zBDE2j9"
      },
      "source": [
        "#### 3.3. Juguemos con Esto - Ejm. 3\n",
        "---"
      ]
    },
    {
      "cell_type": "code",
      "metadata": {
        "id": "OgDmPMUtEX1p",
        "outputId": "ea095f52-2632-415f-f807-bb7ffc396d8a",
        "colab": {
          "base_uri": "https://localhost:8080/",
          "height": 158
        }
      },
      "source": [
        "for caracter in 'Muy sencillo':\n",
        "  if caracter == 'i':\n",
        "    break\n",
        "  print(caracter)"
      ],
      "execution_count": 7,
      "outputs": [
        {
          "output_type": "stream",
          "text": [
            "M\n",
            "u\n",
            "y\n",
            " \n",
            "s\n",
            "e\n",
            "n\n",
            "c\n"
          ],
          "name": "stdout"
        }
      ]
    },
    {
      "cell_type": "markdown",
      "metadata": {
        "id": "FZj7u14dE-zL"
      },
      "source": [
        "## **4. While Loops**"
      ]
    },
    {
      "cell_type": "markdown",
      "metadata": {
        "id": "2Iefsq-bKurz"
      },
      "source": [
        "#### 4.1. Juguemos con Esto - Ejm. 1\n",
        "---"
      ]
    },
    {
      "cell_type": "code",
      "metadata": {
        "id": "8xzerppIF18t",
        "outputId": "89639319-4c63-44a5-b013-7cd2cc94e166",
        "colab": {
          "base_uri": "https://localhost:8080/",
          "height": 34
        }
      },
      "source": [
        "import numpy as np    #Librería NumPy\n",
        "nums = np.linspace(1,10,10)   #linspace(start, end, quantity)\n",
        "print(nums)"
      ],
      "execution_count": 8,
      "outputs": [
        {
          "output_type": "stream",
          "text": [
            "[ 1.  2.  3.  4.  5.  6.  7.  8.  9. 10.]\n"
          ],
          "name": "stdout"
        }
      ]
    },
    {
      "cell_type": "code",
      "metadata": {
        "id": "ABgnkm1MH7v2",
        "outputId": "953357a6-23ab-4a4d-beab-349f0f81e3fb",
        "colab": {
          "base_uri": "https://localhost:8080/",
          "height": 194
        }
      },
      "source": [
        "#Ejemplo For\n",
        "for numeros in nums:\n",
        "  print(numeros)"
      ],
      "execution_count": 9,
      "outputs": [
        {
          "output_type": "stream",
          "text": [
            "1.0\n",
            "2.0\n",
            "3.0\n",
            "4.0\n",
            "5.0\n",
            "6.0\n",
            "7.0\n",
            "8.0\n",
            "9.0\n",
            "10.0\n"
          ],
          "name": "stdout"
        }
      ]
    },
    {
      "cell_type": "code",
      "metadata": {
        "id": "oq8sWFqVH_L6",
        "outputId": "a23993f9-208f-445c-b775-14472397252f",
        "colab": {
          "base_uri": "https://localhost:8080/",
          "height": 158
        }
      },
      "source": [
        "#Ejemplo While\n",
        "i = 0\n",
        "while i < 8:\n",
        "  print(nums[i])\n",
        "  i = i + 1   #También se puede expresar como i += 1"
      ],
      "execution_count": 10,
      "outputs": [
        {
          "output_type": "stream",
          "text": [
            "1.0\n",
            "2.0\n",
            "3.0\n",
            "4.0\n",
            "5.0\n",
            "6.0\n",
            "7.0\n",
            "8.0\n"
          ],
          "name": "stdout"
        }
      ]
    },
    {
      "cell_type": "markdown",
      "metadata": {
        "id": "Mk6MT_mGKzlp"
      },
      "source": [
        "#### 4.2. Juguemos con Esto - Ejm. 2\n",
        "---"
      ]
    },
    {
      "cell_type": "code",
      "metadata": {
        "id": "fYAnJ-q_J7uj",
        "outputId": "b7deab18-7a9d-4f39-a0dc-362d65225989",
        "colab": {
          "base_uri": "https://localhost:8080/",
          "height": 123
        }
      },
      "source": [
        "loop = True\n",
        "\n",
        "while loop == True:\n",
        "  contraseña = input('Inserte la contraseña: ')\n",
        "  if int(contraseña) == 1234:\n",
        "    print('Bienvenido.')\n",
        "    break   #o sencillamente loop = False \n",
        "  \n",
        "  else:\n",
        "    print('Contraseña Incorrecta.')"
      ],
      "execution_count": 11,
      "outputs": [
        {
          "output_type": "stream",
          "text": [
            "Inserte la contraseña: 123\n",
            "Contraseña Incorrecta.\n",
            "Inserte la contraseña: 1235\n",
            "Contraseña Incorrecta.\n",
            "Inserte la contraseña: 1234\n",
            "Bienvenido.\n"
          ],
          "name": "stdout"
        }
      ]
    },
    {
      "cell_type": "markdown",
      "metadata": {
        "id": "zsXoAiAQK70h"
      },
      "source": [
        "## **5. Lists, Tuples y Dics**"
      ]
    },
    {
      "cell_type": "code",
      "metadata": {
        "id": "JTSWvdBHK7GK",
        "outputId": "49837ad7-db9e-4045-9461-1f669b8d9918",
        "colab": {
          "base_uri": "https://localhost:8080/",
          "height": 52
        }
      },
      "source": [
        "#Lists [] - Modificables\n",
        "ingenierias = ['Ambiental', 'Industrial', 'Civil', 'Mecánica', 'Química', 'Biomédica', 'Eléctrica', ]\n",
        "print(ingenierias)\n",
        "\n",
        "ingenierias.append('Electrónica')\n",
        "print(ingenierias)"
      ],
      "execution_count": 12,
      "outputs": [
        {
          "output_type": "stream",
          "text": [
            "['Ambiental', 'Industrial', 'Civil', 'Mecánica', 'Química', 'Biomédica', 'Eléctrica']\n",
            "['Ambiental', 'Industrial', 'Civil', 'Mecánica', 'Química', 'Biomédica', 'Eléctrica', 'Electrónica']\n"
          ],
          "name": "stdout"
        }
      ]
    },
    {
      "cell_type": "code",
      "metadata": {
        "id": "fGUT1KGZ-gUI",
        "outputId": "b8da6392-dfc2-4d0f-959d-488b6dd5eafa",
        "colab": {
          "base_uri": "https://localhost:8080/",
          "height": 34
        }
      },
      "source": [
        "#Tuples () - No Modificables\n",
        "leyes_ingenieria = ('Cons. Masa', 'Cons. Energía', 'Cons. Momentum')\n",
        "print(leyes_ingenieria)"
      ],
      "execution_count": 13,
      "outputs": [
        {
          "output_type": "stream",
          "text": [
            "('Cons. Masa', 'Cons. Energía', 'Cons. Momentum')\n"
          ],
          "name": "stdout"
        }
      ]
    },
    {
      "cell_type": "code",
      "metadata": {
        "id": "uQEBAnmd-hyj",
        "outputId": "644697ab-258b-47da-9b3d-b93a463c6d9a",
        "colab": {
          "base_uri": "https://localhost:8080/",
          "height": 107
        }
      },
      "source": [
        "#Dics {} - Diccionarios Modificables\n",
        "estudiante = {'Nombre': 'Diomedes',\n",
        "              'Apellido': 'Díaz',\n",
        "              'Edad': 19,\n",
        "              'Semestre': 1,\n",
        "              'Cursos': ['Introducción', 'Fundamentos', 'Diseño']\n",
        "              }\n",
        "print(estudiante)\n",
        "print('Edad: ', estudiante['Edad'])\n",
        "print('Cursos: ', estudiante['Cursos'])\n",
        "print('Cursos: ', estudiante['Cursos'][1])"
      ],
      "execution_count": 14,
      "outputs": [
        {
          "output_type": "stream",
          "text": [
            "{'Nombre': 'Diomedes', 'Apellido': 'Díaz', 'Edad': 19, 'Semestre': 1, 'Cursos': ['Introducción', 'Fundamentos', 'Diseño']}\n",
            "Edad:  19\n",
            "Cursos:  ['Introducción', 'Fundamentos', 'Diseño']\n",
            "Cursos:  Fundamentos\n"
          ],
          "name": "stdout"
        }
      ]
    },
    {
      "cell_type": "markdown",
      "metadata": {
        "id": "SgD5VTAPMmyO"
      },
      "source": [
        "#### 5.1. Juguemos con Esto - Ejm. 1\n",
        "---"
      ]
    },
    {
      "cell_type": "code",
      "metadata": {
        "id": "6zNc4CddMjDi",
        "outputId": "fb50aff4-fda3-4b74-9b4a-c6ea7f2c64cf",
        "colab": {
          "base_uri": "https://localhost:8080/",
          "height": 158
        }
      },
      "source": [
        "for i in range(0, len(ingenierias)):\n",
        "  if ingenierias[i] == 'Mecánica':\n",
        "    print(i, ingenierias[i])\n",
        "  else:\n",
        "    print(i, 'No es Mecánica')"
      ],
      "execution_count": 15,
      "outputs": [
        {
          "output_type": "stream",
          "text": [
            "0 No es Mecánica\n",
            "1 No es Mecánica\n",
            "2 No es Mecánica\n",
            "3 Mecánica\n",
            "4 No es Mecánica\n",
            "5 No es Mecánica\n",
            "6 No es Mecánica\n",
            "7 No es Mecánica\n"
          ],
          "name": "stdout"
        }
      ]
    },
    {
      "cell_type": "markdown",
      "metadata": {
        "id": "VrZ55A9CBD1K"
      },
      "source": [
        "## **6. Funciones**"
      ]
    },
    {
      "cell_type": "code",
      "metadata": {
        "id": "8mcuIX3YBIwk",
        "outputId": "b63c80d6-c9fc-467d-b666-ae14d6250c61",
        "colab": {
          "base_uri": "https://localhost:8080/",
          "height": 87
        }
      },
      "source": [
        "#Si tenemos una 'estructura' en el output: print()\n",
        "\n",
        "num1 = input()\n",
        "num2 = input()\n",
        "def suma(num1, num2):\n",
        "  print('La suma es: ', int(num1)+int(num2))\n",
        "\n",
        "suma(num1, num2)\n",
        "\n",
        "#No tenemos una 'estructura' en el output: return()\n",
        "def multip(num1, num2):\n",
        "  return num1*num2\n",
        "  \n",
        "multip(num1=3, num2=3)"
      ],
      "execution_count": 16,
      "outputs": [
        {
          "output_type": "stream",
          "text": [
            "5\n",
            "6\n",
            "La suma es:  11\n"
          ],
          "name": "stdout"
        },
        {
          "output_type": "execute_result",
          "data": {
            "text/plain": [
              "9"
            ]
          },
          "metadata": {
            "tags": []
          },
          "execution_count": 16
        }
      ]
    },
    {
      "cell_type": "markdown",
      "metadata": {
        "id": "93qxzcPaEGJc"
      },
      "source": [
        "## **7. Pandas**"
      ]
    },
    {
      "cell_type": "code",
      "metadata": {
        "id": "-d-bLoThGfSt",
        "outputId": "865b1040-7bb9-4b31-c676-12248b0b598d",
        "colab": {
          "base_uri": "https://localhost:8080/",
          "height": 311
        }
      },
      "source": [
        "import pandas as pd   #Se importa la librería\n",
        "\n",
        "motores = pd.read_excel('/content/drive/My Drive/Sem7_IntroPython.xlsx', #Deben saber la ruta del documento (https://www.youtube.com/watch?v=tuHQGt-5uJE&t=702s mins 7-8)\n",
        "                     sheet_name = 'Datos',\n",
        "                     header = 0,\n",
        "                     index_col = 0)\n",
        "\n",
        "motores.head()"
      ],
      "execution_count": 17,
      "outputs": [
        {
          "output_type": "execute_result",
          "data": {
            "text/html": [
              "<div>\n",
              "<style scoped>\n",
              "    .dataframe tbody tr th:only-of-type {\n",
              "        vertical-align: middle;\n",
              "    }\n",
              "\n",
              "    .dataframe tbody tr th {\n",
              "        vertical-align: top;\n",
              "    }\n",
              "\n",
              "    .dataframe thead th {\n",
              "        text-align: right;\n",
              "    }\n",
              "</style>\n",
              "<table border=\"1\" class=\"dataframe\">\n",
              "  <thead>\n",
              "    <tr style=\"text-align: right;\">\n",
              "      <th></th>\n",
              "      <th>Engine</th>\n",
              "      <th>Mass (Kg)</th>\n",
              "      <th>Number of Cylinders</th>\n",
              "      <th>Strokes per Cycle</th>\n",
              "      <th>Displacement (cm3)</th>\n",
              "      <th>Bore (mm)</th>\n",
              "      <th>Stroke (mm)</th>\n",
              "      <th>Maximum Brake Horsepower, BHP</th>\n",
              "      <th>Revolutions per Minute, RPM</th>\n",
              "    </tr>\n",
              "    <tr>\n",
              "      <th>Index</th>\n",
              "      <th></th>\n",
              "      <th></th>\n",
              "      <th></th>\n",
              "      <th></th>\n",
              "      <th></th>\n",
              "      <th></th>\n",
              "      <th></th>\n",
              "      <th></th>\n",
              "      <th></th>\n",
              "    </tr>\n",
              "  </thead>\n",
              "  <tbody>\n",
              "    <tr>\n",
              "      <th>1</th>\n",
              "      <td>Webra Speedy</td>\n",
              "      <td>0.135</td>\n",
              "      <td>1</td>\n",
              "      <td>2</td>\n",
              "      <td>1.8</td>\n",
              "      <td>13.5</td>\n",
              "      <td>12.5</td>\n",
              "      <td>0.45</td>\n",
              "      <td>22000</td>\n",
              "    </tr>\n",
              "    <tr>\n",
              "      <th>2</th>\n",
              "      <td>Motori Cipolla</td>\n",
              "      <td>0.150</td>\n",
              "      <td>1</td>\n",
              "      <td>2</td>\n",
              "      <td>2.5</td>\n",
              "      <td>15.0</td>\n",
              "      <td>14.0</td>\n",
              "      <td>1.00</td>\n",
              "      <td>26000</td>\n",
              "    </tr>\n",
              "    <tr>\n",
              "      <th>3</th>\n",
              "      <td>Webra Speed 20</td>\n",
              "      <td>0.250</td>\n",
              "      <td>1</td>\n",
              "      <td>2</td>\n",
              "      <td>3.4</td>\n",
              "      <td>16.5</td>\n",
              "      <td>16.0</td>\n",
              "      <td>0.78</td>\n",
              "      <td>22000</td>\n",
              "    </tr>\n",
              "    <tr>\n",
              "      <th>4</th>\n",
              "      <td>Webra 40</td>\n",
              "      <td>0.270</td>\n",
              "      <td>1</td>\n",
              "      <td>2</td>\n",
              "      <td>6.5</td>\n",
              "      <td>21.0</td>\n",
              "      <td>19.0</td>\n",
              "      <td>0.96</td>\n",
              "      <td>15500</td>\n",
              "    </tr>\n",
              "    <tr>\n",
              "      <th>5</th>\n",
              "      <td>Webra 61 Blackhead</td>\n",
              "      <td>0.430</td>\n",
              "      <td>1</td>\n",
              "      <td>2</td>\n",
              "      <td>10.0</td>\n",
              "      <td>24.0</td>\n",
              "      <td>22.0</td>\n",
              "      <td>1.55</td>\n",
              "      <td>14000</td>\n",
              "    </tr>\n",
              "  </tbody>\n",
              "</table>\n",
              "</div>"
            ],
            "text/plain": [
              "                   Engine  ...  Revolutions per Minute, RPM\n",
              "Index                      ...                             \n",
              "1            Webra Speedy  ...                        22000\n",
              "2          Motori Cipolla  ...                        26000\n",
              "3          Webra Speed 20  ...                        22000\n",
              "4                Webra 40  ...                        15500\n",
              "5      Webra 61 Blackhead  ...                        14000\n",
              "\n",
              "[5 rows x 9 columns]"
            ]
          },
          "metadata": {
            "tags": []
          },
          "execution_count": 17
        }
      ]
    },
    {
      "cell_type": "code",
      "metadata": {
        "id": "GPu_wJyPHM0C",
        "outputId": "40a76244-0cbf-45fd-aa5f-0e6670b30c1d",
        "colab": {
          "base_uri": "https://localhost:8080/",
          "height": 304
        }
      },
      "source": [
        "motores.describe()"
      ],
      "execution_count": 18,
      "outputs": [
        {
          "output_type": "execute_result",
          "data": {
            "text/html": [
              "<div>\n",
              "<style scoped>\n",
              "    .dataframe tbody tr th:only-of-type {\n",
              "        vertical-align: middle;\n",
              "    }\n",
              "\n",
              "    .dataframe tbody tr th {\n",
              "        vertical-align: top;\n",
              "    }\n",
              "\n",
              "    .dataframe thead th {\n",
              "        text-align: right;\n",
              "    }\n",
              "</style>\n",
              "<table border=\"1\" class=\"dataframe\">\n",
              "  <thead>\n",
              "    <tr style=\"text-align: right;\">\n",
              "      <th></th>\n",
              "      <th>Mass (Kg)</th>\n",
              "      <th>Number of Cylinders</th>\n",
              "      <th>Strokes per Cycle</th>\n",
              "      <th>Displacement (cm3)</th>\n",
              "      <th>Bore (mm)</th>\n",
              "      <th>Stroke (mm)</th>\n",
              "      <th>Maximum Brake Horsepower, BHP</th>\n",
              "      <th>Revolutions per Minute, RPM</th>\n",
              "    </tr>\n",
              "  </thead>\n",
              "  <tbody>\n",
              "    <tr>\n",
              "      <th>count</th>\n",
              "      <td>39.000000</td>\n",
              "      <td>39.000000</td>\n",
              "      <td>39.000000</td>\n",
              "      <td>3.900000e+01</td>\n",
              "      <td>39.000000</td>\n",
              "      <td>39.000000</td>\n",
              "      <td>39.000000</td>\n",
              "      <td>39.000000</td>\n",
              "    </tr>\n",
              "    <tr>\n",
              "      <th>mean</th>\n",
              "      <td>6511.123026</td>\n",
              "      <td>7.794872</td>\n",
              "      <td>3.589744</td>\n",
              "      <td>7.388296e+05</td>\n",
              "      <td>166.843590</td>\n",
              "      <td>213.012821</td>\n",
              "      <td>2605.667692</td>\n",
              "      <td>6235.102564</td>\n",
              "    </tr>\n",
              "    <tr>\n",
              "      <th>std</th>\n",
              "      <td>22224.216977</td>\n",
              "      <td>6.637927</td>\n",
              "      <td>0.818148</td>\n",
              "      <td>2.645649e+06</td>\n",
              "      <td>205.428676</td>\n",
              "      <td>374.272601</td>\n",
              "      <td>6376.563560</td>\n",
              "      <td>6893.587038</td>\n",
              "    </tr>\n",
              "    <tr>\n",
              "      <th>min</th>\n",
              "      <td>0.135000</td>\n",
              "      <td>1.000000</td>\n",
              "      <td>2.000000</td>\n",
              "      <td>1.800000e+00</td>\n",
              "      <td>13.500000</td>\n",
              "      <td>12.500000</td>\n",
              "      <td>0.450000</td>\n",
              "      <td>110.000000</td>\n",
              "    </tr>\n",
              "    <tr>\n",
              "      <th>25%</th>\n",
              "      <td>1.690000</td>\n",
              "      <td>1.500000</td>\n",
              "      <td>4.000000</td>\n",
              "      <td>3.500000e+01</td>\n",
              "      <td>30.500000</td>\n",
              "      <td>26.500000</td>\n",
              "      <td>3.475000</td>\n",
              "      <td>2300.000000</td>\n",
              "    </tr>\n",
              "    <tr>\n",
              "      <th>50%</th>\n",
              "      <td>135.000000</td>\n",
              "      <td>6.000000</td>\n",
              "      <td>4.000000</td>\n",
              "      <td>4.700000e+03</td>\n",
              "      <td>102.000000</td>\n",
              "      <td>92.000000</td>\n",
              "      <td>140.000000</td>\n",
              "      <td>2800.000000</td>\n",
              "    </tr>\n",
              "    <tr>\n",
              "      <th>75%</th>\n",
              "      <td>1290.000000</td>\n",
              "      <td>12.000000</td>\n",
              "      <td>4.000000</td>\n",
              "      <td>5.890000e+04</td>\n",
              "      <td>163.500000</td>\n",
              "      <td>170.000000</td>\n",
              "      <td>2275.000000</td>\n",
              "      <td>9000.000000</td>\n",
              "    </tr>\n",
              "    <tr>\n",
              "      <th>max</th>\n",
              "      <td>102300.000000</td>\n",
              "      <td>24.000000</td>\n",
              "      <td>4.000000</td>\n",
              "      <td>1.190000e+07</td>\n",
              "      <td>900.000000</td>\n",
              "      <td>1800.000000</td>\n",
              "      <td>27800.000000</td>\n",
              "      <td>26000.000000</td>\n",
              "    </tr>\n",
              "  </tbody>\n",
              "</table>\n",
              "</div>"
            ],
            "text/plain": [
              "           Mass (Kg)  ...  Revolutions per Minute, RPM\n",
              "count      39.000000  ...                    39.000000\n",
              "mean     6511.123026  ...                  6235.102564\n",
              "std     22224.216977  ...                  6893.587038\n",
              "min         0.135000  ...                   110.000000\n",
              "25%         1.690000  ...                  2300.000000\n",
              "50%       135.000000  ...                  2800.000000\n",
              "75%      1290.000000  ...                  9000.000000\n",
              "max    102300.000000  ...                 26000.000000\n",
              "\n",
              "[8 rows x 8 columns]"
            ]
          },
          "metadata": {
            "tags": []
          },
          "execution_count": 18
        }
      ]
    },
    {
      "cell_type": "code",
      "metadata": {
        "id": "aczpgh_lH_oo",
        "outputId": "aef4ad8f-ce16-452d-e2ab-1641f876b98b",
        "colab": {
          "base_uri": "https://localhost:8080/",
          "height": 377
        }
      },
      "source": [
        "rpm_motores = pd.DataFrame({'Nombre': motores['Engine'],\n",
        "                            'RPM': motores['Revolutions per Minute, RPM']})\n",
        "\n",
        "rpm_motores.head(10)"
      ],
      "execution_count": 19,
      "outputs": [
        {
          "output_type": "execute_result",
          "data": {
            "text/html": [
              "<div>\n",
              "<style scoped>\n",
              "    .dataframe tbody tr th:only-of-type {\n",
              "        vertical-align: middle;\n",
              "    }\n",
              "\n",
              "    .dataframe tbody tr th {\n",
              "        vertical-align: top;\n",
              "    }\n",
              "\n",
              "    .dataframe thead th {\n",
              "        text-align: right;\n",
              "    }\n",
              "</style>\n",
              "<table border=\"1\" class=\"dataframe\">\n",
              "  <thead>\n",
              "    <tr style=\"text-align: right;\">\n",
              "      <th></th>\n",
              "      <th>Nombre</th>\n",
              "      <th>RPM</th>\n",
              "    </tr>\n",
              "    <tr>\n",
              "      <th>Index</th>\n",
              "      <th></th>\n",
              "      <th></th>\n",
              "    </tr>\n",
              "  </thead>\n",
              "  <tbody>\n",
              "    <tr>\n",
              "      <th>1</th>\n",
              "      <td>Webra Speedy</td>\n",
              "      <td>22000</td>\n",
              "    </tr>\n",
              "    <tr>\n",
              "      <th>2</th>\n",
              "      <td>Motori Cipolla</td>\n",
              "      <td>26000</td>\n",
              "    </tr>\n",
              "    <tr>\n",
              "      <th>3</th>\n",
              "      <td>Webra Speed 20</td>\n",
              "      <td>22000</td>\n",
              "    </tr>\n",
              "    <tr>\n",
              "      <th>4</th>\n",
              "      <td>Webra 40</td>\n",
              "      <td>15500</td>\n",
              "    </tr>\n",
              "    <tr>\n",
              "      <th>5</th>\n",
              "      <td>Webra 61 Blackhead</td>\n",
              "      <td>14000</td>\n",
              "    </tr>\n",
              "    <tr>\n",
              "      <th>6</th>\n",
              "      <td>Webra 61WR</td>\n",
              "      <td>19000</td>\n",
              "    </tr>\n",
              "    <tr>\n",
              "      <th>7</th>\n",
              "      <td>Enya 60-4C</td>\n",
              "      <td>11800</td>\n",
              "    </tr>\n",
              "    <tr>\n",
              "      <th>8</th>\n",
              "      <td>Webra 91RC</td>\n",
              "      <td>13000</td>\n",
              "    </tr>\n",
              "    <tr>\n",
              "      <th>9</th>\n",
              "      <td>Technopower radial</td>\n",
              "      <td>8700</td>\n",
              "    </tr>\n",
              "    <tr>\n",
              "      <th>10</th>\n",
              "      <td>Webra T4</td>\n",
              "      <td>9300</td>\n",
              "    </tr>\n",
              "  </tbody>\n",
              "</table>\n",
              "</div>"
            ],
            "text/plain": [
              "                   Nombre    RPM\n",
              "Index                           \n",
              "1            Webra Speedy  22000\n",
              "2          Motori Cipolla  26000\n",
              "3          Webra Speed 20  22000\n",
              "4                Webra 40  15500\n",
              "5      Webra 61 Blackhead  14000\n",
              "6              Webra 61WR  19000\n",
              "7              Enya 60-4C  11800\n",
              "8              Webra 91RC  13000\n",
              "9      Technopower radial   8700\n",
              "10               Webra T4   9300"
            ]
          },
          "metadata": {
            "tags": []
          },
          "execution_count": 19
        }
      ]
    },
    {
      "cell_type": "code",
      "metadata": {
        "id": "W48Baw6AH_4k",
        "outputId": "deacf1a0-d2ee-4340-8b9a-82b5ae465e16",
        "colab": {
          "base_uri": "https://localhost:8080/",
          "height": 327
        }
      },
      "source": [
        "log_motores_man = pd.DataFrame({'Engine': motores['Engine'],\n",
        "                            'Log. Mass': np.log(motores['Mass (Kg)']),\n",
        "                            'Log. Number of Cylinders': np.log(motores['Number of Cylinders']),\n",
        "                            'Log. Displacement (cm3)': np.log(motores['Displacement (cm3)']),\n",
        "                            'Log. Bore (mm)': np.log(motores['Mass (Kg)']),\n",
        "                            'Log. Stroke (mm)': np.log(motores['Stroke (mm)']),\n",
        "                            'Log. Maximum Brake Horsepower, BHP': np.log(motores['Maximum Brake Horsepower, BHP']),\n",
        "                            'Log. Revolutions per Minute, RPM': np.log(motores['Revolutions per Minute, RPM'])})\n",
        "\n",
        "log_motores_man.head()"
      ],
      "execution_count": 20,
      "outputs": [
        {
          "output_type": "execute_result",
          "data": {
            "text/html": [
              "<div>\n",
              "<style scoped>\n",
              "    .dataframe tbody tr th:only-of-type {\n",
              "        vertical-align: middle;\n",
              "    }\n",
              "\n",
              "    .dataframe tbody tr th {\n",
              "        vertical-align: top;\n",
              "    }\n",
              "\n",
              "    .dataframe thead th {\n",
              "        text-align: right;\n",
              "    }\n",
              "</style>\n",
              "<table border=\"1\" class=\"dataframe\">\n",
              "  <thead>\n",
              "    <tr style=\"text-align: right;\">\n",
              "      <th></th>\n",
              "      <th>Engine</th>\n",
              "      <th>Log. Mass</th>\n",
              "      <th>Log. Number of Cylinders</th>\n",
              "      <th>Log. Displacement (cm3)</th>\n",
              "      <th>Log. Bore (mm)</th>\n",
              "      <th>Log. Stroke (mm)</th>\n",
              "      <th>Log. Maximum Brake Horsepower, BHP</th>\n",
              "      <th>Log. Revolutions per Minute, RPM</th>\n",
              "    </tr>\n",
              "    <tr>\n",
              "      <th>Index</th>\n",
              "      <th></th>\n",
              "      <th></th>\n",
              "      <th></th>\n",
              "      <th></th>\n",
              "      <th></th>\n",
              "      <th></th>\n",
              "      <th></th>\n",
              "      <th></th>\n",
              "    </tr>\n",
              "  </thead>\n",
              "  <tbody>\n",
              "    <tr>\n",
              "      <th>1</th>\n",
              "      <td>Webra Speedy</td>\n",
              "      <td>-2.002481</td>\n",
              "      <td>0.0</td>\n",
              "      <td>0.587787</td>\n",
              "      <td>-2.002481</td>\n",
              "      <td>2.525729</td>\n",
              "      <td>-0.798508</td>\n",
              "      <td>9.998798</td>\n",
              "    </tr>\n",
              "    <tr>\n",
              "      <th>2</th>\n",
              "      <td>Motori Cipolla</td>\n",
              "      <td>-1.897120</td>\n",
              "      <td>0.0</td>\n",
              "      <td>0.916291</td>\n",
              "      <td>-1.897120</td>\n",
              "      <td>2.639057</td>\n",
              "      <td>0.000000</td>\n",
              "      <td>10.165852</td>\n",
              "    </tr>\n",
              "    <tr>\n",
              "      <th>3</th>\n",
              "      <td>Webra Speed 20</td>\n",
              "      <td>-1.386294</td>\n",
              "      <td>0.0</td>\n",
              "      <td>1.223775</td>\n",
              "      <td>-1.386294</td>\n",
              "      <td>2.772589</td>\n",
              "      <td>-0.248461</td>\n",
              "      <td>9.998798</td>\n",
              "    </tr>\n",
              "    <tr>\n",
              "      <th>4</th>\n",
              "      <td>Webra 40</td>\n",
              "      <td>-1.309333</td>\n",
              "      <td>0.0</td>\n",
              "      <td>1.871802</td>\n",
              "      <td>-1.309333</td>\n",
              "      <td>2.944439</td>\n",
              "      <td>-0.040822</td>\n",
              "      <td>9.648595</td>\n",
              "    </tr>\n",
              "    <tr>\n",
              "      <th>5</th>\n",
              "      <td>Webra 61 Blackhead</td>\n",
              "      <td>-0.843970</td>\n",
              "      <td>0.0</td>\n",
              "      <td>2.302585</td>\n",
              "      <td>-0.843970</td>\n",
              "      <td>3.091042</td>\n",
              "      <td>0.438255</td>\n",
              "      <td>9.546813</td>\n",
              "    </tr>\n",
              "  </tbody>\n",
              "</table>\n",
              "</div>"
            ],
            "text/plain": [
              "                   Engine  ...  Log. Revolutions per Minute, RPM\n",
              "Index                      ...                                  \n",
              "1            Webra Speedy  ...                          9.998798\n",
              "2          Motori Cipolla  ...                         10.165852\n",
              "3          Webra Speed 20  ...                          9.998798\n",
              "4                Webra 40  ...                          9.648595\n",
              "5      Webra 61 Blackhead  ...                          9.546813\n",
              "\n",
              "[5 rows x 8 columns]"
            ]
          },
          "metadata": {
            "tags": []
          },
          "execution_count": 20
        }
      ]
    },
    {
      "cell_type": "code",
      "metadata": {
        "id": "Ygm6LDm2IADZ",
        "outputId": "26e9a0b3-8568-446e-e86c-b5c23506befe",
        "colab": {
          "base_uri": "https://localhost:8080/",
          "height": 311
        }
      },
      "source": [
        "log_motores_auto = []\n",
        "\n",
        "for i in motores:\n",
        "  if i == 'Engine':\n",
        "    log_motores_auto.append(motores[i])\n",
        "  else:\n",
        "    log_value =  np.log(motores[i])\n",
        "    log_motores_auto.append(log_value)\n",
        "\n",
        "log_motores_auto = pd.DataFrame(log_motores_auto)\n",
        "log_motores_auto = log_motores_auto.transpose()\n",
        "log_motores_auto.head()"
      ],
      "execution_count": 21,
      "outputs": [
        {
          "output_type": "execute_result",
          "data": {
            "text/html": [
              "<div>\n",
              "<style scoped>\n",
              "    .dataframe tbody tr th:only-of-type {\n",
              "        vertical-align: middle;\n",
              "    }\n",
              "\n",
              "    .dataframe tbody tr th {\n",
              "        vertical-align: top;\n",
              "    }\n",
              "\n",
              "    .dataframe thead th {\n",
              "        text-align: right;\n",
              "    }\n",
              "</style>\n",
              "<table border=\"1\" class=\"dataframe\">\n",
              "  <thead>\n",
              "    <tr style=\"text-align: right;\">\n",
              "      <th></th>\n",
              "      <th>Engine</th>\n",
              "      <th>Mass (Kg)</th>\n",
              "      <th>Number of Cylinders</th>\n",
              "      <th>Strokes per Cycle</th>\n",
              "      <th>Displacement (cm3)</th>\n",
              "      <th>Bore (mm)</th>\n",
              "      <th>Stroke (mm)</th>\n",
              "      <th>Maximum Brake Horsepower, BHP</th>\n",
              "      <th>Revolutions per Minute, RPM</th>\n",
              "    </tr>\n",
              "    <tr>\n",
              "      <th>Index</th>\n",
              "      <th></th>\n",
              "      <th></th>\n",
              "      <th></th>\n",
              "      <th></th>\n",
              "      <th></th>\n",
              "      <th></th>\n",
              "      <th></th>\n",
              "      <th></th>\n",
              "      <th></th>\n",
              "    </tr>\n",
              "  </thead>\n",
              "  <tbody>\n",
              "    <tr>\n",
              "      <th>1</th>\n",
              "      <td>Webra Speedy</td>\n",
              "      <td>-2.00248</td>\n",
              "      <td>0</td>\n",
              "      <td>0.693147</td>\n",
              "      <td>0.587787</td>\n",
              "      <td>2.60269</td>\n",
              "      <td>2.52573</td>\n",
              "      <td>-0.798508</td>\n",
              "      <td>9.9988</td>\n",
              "    </tr>\n",
              "    <tr>\n",
              "      <th>2</th>\n",
              "      <td>Motori Cipolla</td>\n",
              "      <td>-1.89712</td>\n",
              "      <td>0</td>\n",
              "      <td>0.693147</td>\n",
              "      <td>0.916291</td>\n",
              "      <td>2.70805</td>\n",
              "      <td>2.63906</td>\n",
              "      <td>0</td>\n",
              "      <td>10.1659</td>\n",
              "    </tr>\n",
              "    <tr>\n",
              "      <th>3</th>\n",
              "      <td>Webra Speed 20</td>\n",
              "      <td>-1.38629</td>\n",
              "      <td>0</td>\n",
              "      <td>0.693147</td>\n",
              "      <td>1.22378</td>\n",
              "      <td>2.80336</td>\n",
              "      <td>2.77259</td>\n",
              "      <td>-0.248461</td>\n",
              "      <td>9.9988</td>\n",
              "    </tr>\n",
              "    <tr>\n",
              "      <th>4</th>\n",
              "      <td>Webra 40</td>\n",
              "      <td>-1.30933</td>\n",
              "      <td>0</td>\n",
              "      <td>0.693147</td>\n",
              "      <td>1.8718</td>\n",
              "      <td>3.04452</td>\n",
              "      <td>2.94444</td>\n",
              "      <td>-0.040822</td>\n",
              "      <td>9.6486</td>\n",
              "    </tr>\n",
              "    <tr>\n",
              "      <th>5</th>\n",
              "      <td>Webra 61 Blackhead</td>\n",
              "      <td>-0.84397</td>\n",
              "      <td>0</td>\n",
              "      <td>0.693147</td>\n",
              "      <td>2.30259</td>\n",
              "      <td>3.17805</td>\n",
              "      <td>3.09104</td>\n",
              "      <td>0.438255</td>\n",
              "      <td>9.54681</td>\n",
              "    </tr>\n",
              "  </tbody>\n",
              "</table>\n",
              "</div>"
            ],
            "text/plain": [
              "                   Engine  ... Revolutions per Minute, RPM\n",
              "Index                      ...                            \n",
              "1            Webra Speedy  ...                      9.9988\n",
              "2          Motori Cipolla  ...                     10.1659\n",
              "3          Webra Speed 20  ...                      9.9988\n",
              "4                Webra 40  ...                      9.6486\n",
              "5      Webra 61 Blackhead  ...                     9.54681\n",
              "\n",
              "[5 rows x 9 columns]"
            ]
          },
          "metadata": {
            "tags": []
          },
          "execution_count": 21
        }
      ]
    },
    {
      "cell_type": "markdown",
      "metadata": {
        "id": "zQTjn8z7MUEj"
      },
      "source": [
        "#### 7.1. Juguemos con Esto - Ejm. 1\n",
        "---"
      ]
    },
    {
      "cell_type": "code",
      "metadata": {
        "id": "uQRWTtFaIAHW",
        "outputId": "0ec3b0dc-3388-42fe-984d-f00364285ec2",
        "colab": {
          "base_uri": "https://localhost:8080/",
          "height": 194
        }
      },
      "source": [
        "#Loc Sencillo\n",
        "log_motores_auto.loc[1]\n",
        "\n",
        "#Loc Doble\n",
        "#log_motores_auto.loc[10:15, 'Strokes per Cycle':'Stroke (mm)']\n",
        "\n",
        "#Loc Rango\n",
        "#motores.loc[motores['Mass (Kg)'] >= motores['Mass (Kg)'].mean()]"
      ],
      "execution_count": 22,
      "outputs": [
        {
          "output_type": "execute_result",
          "data": {
            "text/plain": [
              "Engine                           Webra Speedy\n",
              "Mass (Kg)                            -2.00248\n",
              "Number of Cylinders                         0\n",
              "Strokes per Cycle                    0.693147\n",
              "Displacement (cm3)                   0.587787\n",
              "Bore (mm)                             2.60269\n",
              "Stroke (mm)                           2.52573\n",
              "Maximum Brake Horsepower, BHP       -0.798508\n",
              "Revolutions per Minute, RPM            9.9988\n",
              "Name: 1, dtype: object"
            ]
          },
          "metadata": {
            "tags": []
          },
          "execution_count": 22
        }
      ]
    },
    {
      "cell_type": "markdown",
      "metadata": {
        "id": "qKfDmKR4MVLQ"
      },
      "source": [
        "#### 7.2. Juguemos con Esto - Ejm. 2\n",
        "---"
      ]
    },
    {
      "cell_type": "markdown",
      "metadata": {
        "id": "3f7fPD6gMh8A"
      },
      "source": [
        "Quiero saber qué motores cumplen que:\n",
        "\n",
        "$$\n",
        "5000 \\leq RPM < 10000\n",
        "$$\n",
        "\n",
        "Noten que los límites están escritos con $\\LaTeX$.\n",
        "\n",
        "¿Cómo lo harían?"
      ]
    },
    {
      "cell_type": "markdown",
      "metadata": {
        "id": "Vvh-BgCuNs6D"
      },
      "source": [
        "##### 7.2.1. Solución"
      ]
    },
    {
      "cell_type": "code",
      "metadata": {
        "id": "j_8DxcPzOdk8",
        "outputId": "5e00440c-169e-48fc-feff-b80018d99e70",
        "colab": {
          "base_uri": "https://localhost:8080/",
          "height": 234
        }
      },
      "source": [
        "#Localizar un Motor\n",
        "lim_inf_rpm = motores.loc[motores['Revolutions per Minute, RPM'] >= 5000]\n",
        "lim_sup_rpm = lim_inf_rpm.loc[lim_inf_rpm['Revolutions per Minute, RPM'] < 10000]\n",
        "\n",
        "motores_loc =  lim_sup_rpm.loc[(lim_sup_rpm['Maximum Brake Horsepower, BHP'] >= 1) & (lim_sup_rpm['Maximum Brake Horsepower, BHP'] < 100)]\n",
        "motores_loc"
      ],
      "execution_count": 23,
      "outputs": [
        {
          "output_type": "execute_result",
          "data": {
            "text/html": [
              "<div>\n",
              "<style scoped>\n",
              "    .dataframe tbody tr th:only-of-type {\n",
              "        vertical-align: middle;\n",
              "    }\n",
              "\n",
              "    .dataframe tbody tr th {\n",
              "        vertical-align: top;\n",
              "    }\n",
              "\n",
              "    .dataframe thead th {\n",
              "        text-align: right;\n",
              "    }\n",
              "</style>\n",
              "<table border=\"1\" class=\"dataframe\">\n",
              "  <thead>\n",
              "    <tr style=\"text-align: right;\">\n",
              "      <th></th>\n",
              "      <th>Engine</th>\n",
              "      <th>Mass (Kg)</th>\n",
              "      <th>Number of Cylinders</th>\n",
              "      <th>Strokes per Cycle</th>\n",
              "      <th>Displacement (cm3)</th>\n",
              "      <th>Bore (mm)</th>\n",
              "      <th>Stroke (mm)</th>\n",
              "      <th>Maximum Brake Horsepower, BHP</th>\n",
              "      <th>Revolutions per Minute, RPM</th>\n",
              "    </tr>\n",
              "    <tr>\n",
              "      <th>Index</th>\n",
              "      <th></th>\n",
              "      <th></th>\n",
              "      <th></th>\n",
              "      <th></th>\n",
              "      <th></th>\n",
              "      <th></th>\n",
              "      <th></th>\n",
              "      <th></th>\n",
              "      <th></th>\n",
              "    </tr>\n",
              "  </thead>\n",
              "  <tbody>\n",
              "    <tr>\n",
              "      <th>10</th>\n",
              "      <td>Webra T4</td>\n",
              "      <td>0.93</td>\n",
              "      <td>1</td>\n",
              "      <td>4</td>\n",
              "      <td>14.7</td>\n",
              "      <td>27.0</td>\n",
              "      <td>25.0</td>\n",
              "      <td>1.43</td>\n",
              "      <td>9300</td>\n",
              "    </tr>\n",
              "    <tr>\n",
              "      <th>11</th>\n",
              "      <td>Kavan FK50</td>\n",
              "      <td>2.45</td>\n",
              "      <td>2</td>\n",
              "      <td>4</td>\n",
              "      <td>50.0</td>\n",
              "      <td>34.0</td>\n",
              "      <td>28.0</td>\n",
              "      <td>4.10</td>\n",
              "      <td>8000</td>\n",
              "    </tr>\n",
              "    <tr>\n",
              "      <th>13</th>\n",
              "      <td>Honda 450</td>\n",
              "      <td>34.00</td>\n",
              "      <td>2</td>\n",
              "      <td>4</td>\n",
              "      <td>450.0</td>\n",
              "      <td>70.0</td>\n",
              "      <td>58.0</td>\n",
              "      <td>43.00</td>\n",
              "      <td>8500</td>\n",
              "    </tr>\n",
              "  </tbody>\n",
              "</table>\n",
              "</div>"
            ],
            "text/plain": [
              "           Engine  ...  Revolutions per Minute, RPM\n",
              "Index              ...                             \n",
              "10       Webra T4  ...                         9300\n",
              "11     Kavan FK50  ...                         8000\n",
              "13      Honda 450  ...                         8500\n",
              "\n",
              "[3 rows x 9 columns]"
            ]
          },
          "metadata": {
            "tags": []
          },
          "execution_count": 23
        }
      ]
    },
    {
      "cell_type": "code",
      "metadata": {
        "id": "ZpMZzArNEK5B",
        "outputId": "ec799251-3b68-471a-e13b-03909b7c4e42",
        "colab": {
          "base_uri": "https://localhost:8080/",
          "height": 234
        }
      },
      "source": [
        "#Localizar un Motor\n",
        "lim_inf = motores.loc[(motores['Revolutions per Minute, RPM'] >= 5000) & (motores['Maximum Brake Horsepower, BHP'] >= 1)]\n",
        "lim_sup = lim_inf.loc[(lim_inf['Revolutions per Minute, RPM'] < 10000) & (motores['Maximum Brake Horsepower, BHP'] < 100)]\n",
        "lim_sup"
      ],
      "execution_count": 24,
      "outputs": [
        {
          "output_type": "execute_result",
          "data": {
            "text/html": [
              "<div>\n",
              "<style scoped>\n",
              "    .dataframe tbody tr th:only-of-type {\n",
              "        vertical-align: middle;\n",
              "    }\n",
              "\n",
              "    .dataframe tbody tr th {\n",
              "        vertical-align: top;\n",
              "    }\n",
              "\n",
              "    .dataframe thead th {\n",
              "        text-align: right;\n",
              "    }\n",
              "</style>\n",
              "<table border=\"1\" class=\"dataframe\">\n",
              "  <thead>\n",
              "    <tr style=\"text-align: right;\">\n",
              "      <th></th>\n",
              "      <th>Engine</th>\n",
              "      <th>Mass (Kg)</th>\n",
              "      <th>Number of Cylinders</th>\n",
              "      <th>Strokes per Cycle</th>\n",
              "      <th>Displacement (cm3)</th>\n",
              "      <th>Bore (mm)</th>\n",
              "      <th>Stroke (mm)</th>\n",
              "      <th>Maximum Brake Horsepower, BHP</th>\n",
              "      <th>Revolutions per Minute, RPM</th>\n",
              "    </tr>\n",
              "    <tr>\n",
              "      <th>Index</th>\n",
              "      <th></th>\n",
              "      <th></th>\n",
              "      <th></th>\n",
              "      <th></th>\n",
              "      <th></th>\n",
              "      <th></th>\n",
              "      <th></th>\n",
              "      <th></th>\n",
              "      <th></th>\n",
              "    </tr>\n",
              "  </thead>\n",
              "  <tbody>\n",
              "    <tr>\n",
              "      <th>10</th>\n",
              "      <td>Webra T4</td>\n",
              "      <td>0.93</td>\n",
              "      <td>1</td>\n",
              "      <td>4</td>\n",
              "      <td>14.7</td>\n",
              "      <td>27.0</td>\n",
              "      <td>25.0</td>\n",
              "      <td>1.43</td>\n",
              "      <td>9300</td>\n",
              "    </tr>\n",
              "    <tr>\n",
              "      <th>11</th>\n",
              "      <td>Kavan FK50</td>\n",
              "      <td>2.45</td>\n",
              "      <td>2</td>\n",
              "      <td>4</td>\n",
              "      <td>50.0</td>\n",
              "      <td>34.0</td>\n",
              "      <td>28.0</td>\n",
              "      <td>4.10</td>\n",
              "      <td>8000</td>\n",
              "    </tr>\n",
              "    <tr>\n",
              "      <th>13</th>\n",
              "      <td>Honda 450</td>\n",
              "      <td>34.00</td>\n",
              "      <td>2</td>\n",
              "      <td>4</td>\n",
              "      <td>450.0</td>\n",
              "      <td>70.0</td>\n",
              "      <td>58.0</td>\n",
              "      <td>43.00</td>\n",
              "      <td>8500</td>\n",
              "    </tr>\n",
              "  </tbody>\n",
              "</table>\n",
              "</div>"
            ],
            "text/plain": [
              "           Engine  ...  Revolutions per Minute, RPM\n",
              "Index              ...                             \n",
              "10       Webra T4  ...                         9300\n",
              "11     Kavan FK50  ...                         8000\n",
              "13      Honda 450  ...                         8500\n",
              "\n",
              "[3 rows x 9 columns]"
            ]
          },
          "metadata": {
            "tags": []
          },
          "execution_count": 24
        }
      ]
    },
    {
      "cell_type": "markdown",
      "metadata": {
        "id": "CARlQJKiHv3i"
      },
      "source": [
        "## **8. Matplotlib**"
      ]
    },
    {
      "cell_type": "code",
      "metadata": {
        "id": "9ot0ZTWePLcp"
      },
      "source": [
        "# %matplotlib inline permite que los plots aparezcan en el notebook -se evita solocar plt.show()-\n",
        "%matplotlib inline    \n",
        "import matplotlib.pyplot as plt   #Se importa la librería de gráficos\n",
        "import matplotlib as mpl   #Se importa la librería completa"
      ],
      "execution_count": 25,
      "outputs": []
    },
    {
      "cell_type": "markdown",
      "metadata": {
        "id": "0_Zd0g8NP6CA"
      },
      "source": [
        "#### 8.1. Gráfica Básica - Ejm. 1\n",
        "---"
      ]
    },
    {
      "cell_type": "code",
      "metadata": {
        "id": "UH-w_L5VPrXC",
        "outputId": "e2e40582-51c4-4d6b-d748-a9969dadf8b4",
        "colab": {
          "base_uri": "https://localhost:8080/",
          "height": 312
        }
      },
      "source": [
        "x = motores['Mass (Kg)']\n",
        "y1 = motores['Maximum Brake Horsepower, BHP']\n",
        "\n",
        "plt.plot(x, y1, label='BHP')\n",
        "plt.plot()\n",
        "\n",
        "plt.xlabel('Mass (Kg')\n",
        "plt.ylabel('BHP')\n",
        "plt.title('Relación entre BHP y Masa')\n",
        "plt.legend()"
      ],
      "execution_count": 26,
      "outputs": [
        {
          "output_type": "execute_result",
          "data": {
            "text/plain": [
              "<matplotlib.legend.Legend at 0x7febc1efde48>"
            ]
          },
          "metadata": {
            "tags": []
          },
          "execution_count": 26
        },
        {
          "output_type": "display_data",
          "data": {
            "image/png": "[encoded data removed]",
            "text/plain": [
              "<Figure size 432x288 with 1 Axes>"
            ]
          },
          "metadata": {
            "tags": [],
            "needs_background": "light"
          }
        }
      ]
    },
    {
      "cell_type": "markdown",
      "metadata": {
        "id": "Db4Rz46UZa36"
      },
      "source": [
        "#### 8.2. Gráfica con Arreglos - Ejm. 2\n",
        "---"
      ]
    },
    {
      "cell_type": "code",
      "metadata": {
        "id": "upWjKyCjQnb9",
        "outputId": "4b65d3e5-fcaf-4bcc-b1bf-26b3c8e2dfae",
        "colab": {
          "base_uri": "https://localhost:8080/",
          "height": 296
        }
      },
      "source": [
        "y2 = motores['Revolutions per Minute, RPM']\n",
        "\n",
        "fig, ax1 = plt.subplots()\n",
        "\n",
        "color = 'tab:red'\n",
        "ax1.set_xlabel('Mass (Kg)')\n",
        "ax1.set_ylabel('BHP', color=color)\n",
        "ax1.scatter(x, y1, color=color)\n",
        "ax1.tick_params(axis='y', labelcolor=color)\n",
        "\n",
        "ax2 = ax1.twinx()  # instantiate a second axes that shares the same x-axis\n",
        "\n",
        "ax2.set_ylabel('RPM')  # we already handled the x-label with ax1\n",
        "ax2.scatter(x, y2, color='blue', marker='v', s=150)\n",
        "ax2.tick_params(axis='y')\n",
        "\n",
        "fig.tight_layout()  # otherwise the right y-label is slightly clipped"
      ],
      "execution_count": 27,
      "outputs": [
        {
          "output_type": "display_data",
          "data": {
            "image/png": "[encoded data removed]",
            "text/plain": [
              "<Figure size 432x288 with 2 Axes>"
            ]
          },
          "metadata": {
            "tags": [],
            "needs_background": "light"
          }
        }
      ]
    },
    {
      "cell_type": "markdown",
      "metadata": {
        "id": "zME09TfIZgEs"
      },
      "source": [
        "#### 8.3. Gráfica con 'Regresión' - Ejm. 3\n",
        "---"
      ]
    },
    {
      "cell_type": "code",
      "metadata": {
        "id": "1cHekjKUReYp",
        "outputId": "86e350f9-d128-4ed8-b9b0-66900363ab42",
        "colab": {
          "base_uri": "https://localhost:8080/",
          "height": 357
        }
      },
      "source": [
        "from scipy import stats\n",
        "\n",
        "#Least Squares Linear Regression\n",
        "x_value = motores['Mass (Kg)']\n",
        "y_value = motores['Maximum Brake Horsepower, BHP']\n",
        "\n",
        "coef = np.polyfit(np.log(x_value), np.log(y_value), 1)\n",
        "poly1d_fn = np.poly1d(coef)\n",
        "\n",
        "slope, intercept, r_value, p_value, std_err = stats.linregress(x_value, y_value)\n",
        "\n",
        "data_descrip = ['Slope', 'Intercept', 'r_value', 'p_value', 'Std. Error']\n",
        "data_result = [slope, intercept, r_value, p_value, std_err]\n",
        "\n",
        "#Figure\n",
        "fig1, ax1 = plt.subplots();\n",
        "axis_lim = 12\n",
        "\n",
        "x = np.linspace(0, axis_lim, axis_lim)\n",
        "y_reg = slope*x + intercept\n",
        "\n",
        "plt.plot(np.log(x_value), np.log(poly1d_fn(x_value)), '--k',\n",
        "         label=(\"Mod = \" + f\"{slope.round(2)} $· \\:$ Med $+ \\:$\" + f\"{intercept.round(2)} \\n $R^2 = $\" \n",
        "               + f\"{r_value.round(4)}\"), color='#1580E4', linewidth=2, zorder = 10)\n",
        "\n",
        "plt.scatter(log_motores_auto['Mass (Kg)'], log_motores_auto['Maximum Brake Horsepower, BHP'], color='black', marker='o', s=3)\n",
        "\n",
        "plt.rc('font', family='Helvetica')\n",
        "plt.rcParams['axes.axisbelow'] = True;\n",
        "\n",
        "plt.title('Relación Log. BHP vs. Masa', fontname=\"Helvetica\", fontsize=15);\n",
        "plt.ylabel('Potencia, $BHP$', fontname=\"Helvetica\", fontsize=13);\n",
        "plt.xlabel('Masa, $Kg$', fontname=\"Helvetica\", fontsize=13);\n",
        "\n",
        "ax1.tick_params(direction='inout', length=6, width=1, grid_alpha=0.5)\n",
        "\n",
        "plt.xticks(rotation=0)\n",
        "plt.xlim(0, axis_lim);\n",
        "plt.ylim(0, axis_lim);\n",
        "plt.grid(True);\n",
        "plt.legend(fontsize=10.5, loc='lower right');\n",
        "plt.tight_layout;"
      ],
      "execution_count": 28,
      "outputs": [
        {
          "output_type": "stream",
          "text": [
            "findfont: Font family ['Helvetica'] not found. Falling back to DejaVu Sans.\n",
            "findfont: Font family ['Helvetica'] not found. Falling back to DejaVu Sans.\n",
            "findfont: Font family ['Helvetica'] not found. Falling back to DejaVu Sans.\n"
          ],
          "name": "stderr"
        },
        {
          "output_type": "display_data",
          "data": {
            "image/png": "[encoded data removed]",
            "text/plain": [
              "<Figure size 432x288 with 1 Axes>"
            ]
          },
          "metadata": {
            "tags": [],
            "needs_background": "light"
          }
        }
      ]
    },
    {
      "cell_type": "code",
      "metadata": {
        "id": "UViXOp00UipI",
        "outputId": "afb5c9a3-4408-4211-87c8-17f9f71880b8",
        "colab": {
          "base_uri": "https://localhost:8080/",
          "height": 352
        }
      },
      "source": [
        "import seaborn as sns\n",
        "\n",
        "x = motores['Mass (Kg)']\n",
        "y = motores['Maximum Brake Horsepower, BHP']\n",
        "\n",
        "sns.regplot(np.log(x), np.log(y))"
      ],
      "execution_count": 29,
      "outputs": [
        {
          "output_type": "stream",
          "text": [
            "/usr/local/lib/python3.6/dist-packages/statsmodels/tools/_testing.py:19: FutureWarning: pandas.util.testing is deprecated. Use the functions in the public API at pandas.testing instead.\n",
            "  import pandas.util.testing as tm\n"
          ],
          "name": "stderr"
        },
        {
          "output_type": "execute_result",
          "data": {
            "text/plain": [
              "<matplotlib.axes._subplots.AxesSubplot at 0x7febb48b6a20>"
            ]
          },
          "metadata": {
            "tags": []
          },
          "execution_count": 29
        },
        {
          "output_type": "stream",
          "text": [
            "findfont: Font family ['Helvetica'] not found. Falling back to DejaVu Sans.\n"
          ],
          "name": "stderr"
        },
        {
          "output_type": "display_data",
          "data": {
            "image/png": "[encoded data removed]",
            "text/plain": [
              "<Figure size 432x288 with 1 Axes>"
            ]
          },
          "metadata": {
            "tags": [],
            "needs_background": "light"
          }
        }
      ]
    },
    {
      "cell_type": "markdown",
      "metadata": {
        "id": "25l1NmlzZk1U"
      },
      "source": [
        "#### 8.4. Gráfica Log-Log - Ejm. 4\n",
        "---"
      ]
    },
    {
      "cell_type": "code",
      "metadata": {
        "id": "UL-nF5fPVgqm",
        "outputId": "8df27240-f184-4bb8-b439-c3209f74a367",
        "colab": {
          "base_uri": "https://localhost:8080/",
          "height": 307
        }
      },
      "source": [
        "plt.loglog(x_value, y_value, color='#1580E4', linewidth=0.5, zorder = 10, linestyle='--', marker='o')\n",
        "plt.grid(True)\n",
        "\n",
        "plt.rc('font', family='Helvetica')\n",
        "plt.rcParams['axes.axisbelow'] = True;\n",
        "\n",
        "plt.title('Relación Log. BHP vs. Masa', fontname=\"Helvetica\", fontsize=15);\n",
        "plt.ylabel('Potencia, $BHP$', fontname=\"Helvetica\", fontsize=13);\n",
        "plt.xlabel('Masa, $Kg$', fontname=\"Helvetica\", fontsize=13);\n",
        "\n",
        "ax1.tick_params(direction='inout', length=6, width=1, grid_alpha=0.5)\n",
        "\n",
        "plt.xticks(rotation=0)\n",
        "plt.grid(True);\n",
        "plt.yscale('log')\n",
        "plt.grid(b=True, which='minor', color='grey', linestyle='--', alpha=0.2)\n",
        "plt.tight_layout;"
      ],
      "execution_count": 30,
      "outputs": [
        {
          "output_type": "display_data",
          "data": {
            "image/png": "[encoded data removed]",
            "text/plain": [
              "<Figure size 432x288 with 1 Axes>"
            ]
          },
          "metadata": {
            "tags": [],
            "needs_background": "light"
          }
        }
      ]
    },
    {
      "cell_type": "markdown",
      "metadata": {
        "id": "LeIcK55jZphR"
      },
      "source": [
        "## **9. Turbina Pelton - *Ineficiente***"
      ]
    },
    {
      "cell_type": "markdown",
      "metadata": {
        "id": "D0K8CiYqZs8-"
      },
      "source": [
        "Vamos a hacer el mismo estudio de la Semana 5 pero:\n",
        "\n",
        "$$\n",
        "\\rho Q V u \\: \\leftarrow \\: \\frac{W d}{t}\n",
        "$$\n",
        "\n",
        "Entonces:\n",
        "\n",
        "1.   Definimos las variables estándar.\n",
        "2.   Definimos el peso $\\: W \\:$ y la altura $\\: d \\:$ de prueba. Deben ser **fijos** y **conocidos**.\n",
        "3.   Definimos los tiempos $\\: t \\:$ que queremos estudiar.\n",
        "\n"
      ]
    },
    {
      "cell_type": "code",
      "metadata": {
        "id": "Dj5LZI6bZXDD",
        "outputId": "c44cc945-7954-47b9-eb48-3f723a14223f",
        "colab": {
          "base_uri": "https://localhost:8080/",
          "height": 197
        }
      },
      "source": [
        "#Alturas\n",
        "d = np.linspace(0.2, 1, 5) #Unidades en metros\n",
        "\n",
        "#Tiempo\n",
        "t = 5 #Unidades en segundos\n",
        "\n",
        "#Peso\n",
        "m = np.linspace(0.5, 25, 25) #Masa en nidades en Kg\n",
        "g = 9.81\n",
        "\n",
        "#Potencia\n",
        "potencia_1 = (m*g)*d[0]/t\n",
        "potencia_2 = (m*g)*d[1]/t\n",
        "potencia_3 = (m*g)*d[2]/t\n",
        "potencia_4 = (m*g)*d[3]/t\n",
        "potencia_5 = (m*g)*d[4]/t\n",
        "\n",
        "df_pot = pd.DataFrame({'Pot. Altura 1, W': potencia_1,\n",
        "                       'Pot. Altura 2, W': potencia_2,\n",
        "                       'Pot. Altura 3, W': potencia_3,\n",
        "                       'Pot. Altura 4, W': potencia_4,\n",
        "                       'Pot. Altura 5, W': potencia_5})\n",
        "\n",
        "df_pot.head()"
      ],
      "execution_count": 31,
      "outputs": [
        {
          "output_type": "execute_result",
          "data": {
            "text/html": [
              "<div>\n",
              "<style scoped>\n",
              "    .dataframe tbody tr th:only-of-type {\n",
              "        vertical-align: middle;\n",
              "    }\n",
              "\n",
              "    .dataframe tbody tr th {\n",
              "        vertical-align: top;\n",
              "    }\n",
              "\n",
              "    .dataframe thead th {\n",
              "        text-align: right;\n",
              "    }\n",
              "</style>\n",
              "<table border=\"1\" class=\"dataframe\">\n",
              "  <thead>\n",
              "    <tr style=\"text-align: right;\">\n",
              "      <th></th>\n",
              "      <th>Pot. Altura 1, W</th>\n",
              "      <th>Pot. Altura 2, W</th>\n",
              "      <th>Pot. Altura 3, W</th>\n",
              "      <th>Pot. Altura 4, W</th>\n",
              "      <th>Pot. Altura 5, W</th>\n",
              "    </tr>\n",
              "  </thead>\n",
              "  <tbody>\n",
              "    <tr>\n",
              "      <th>0</th>\n",
              "      <td>0.196200</td>\n",
              "      <td>0.39240</td>\n",
              "      <td>0.588600</td>\n",
              "      <td>0.7848</td>\n",
              "      <td>0.981000</td>\n",
              "    </tr>\n",
              "    <tr>\n",
              "      <th>1</th>\n",
              "      <td>0.596775</td>\n",
              "      <td>1.19355</td>\n",
              "      <td>1.790325</td>\n",
              "      <td>2.3871</td>\n",
              "      <td>2.983875</td>\n",
              "    </tr>\n",
              "    <tr>\n",
              "      <th>2</th>\n",
              "      <td>0.997350</td>\n",
              "      <td>1.99470</td>\n",
              "      <td>2.992050</td>\n",
              "      <td>3.9894</td>\n",
              "      <td>4.986750</td>\n",
              "    </tr>\n",
              "    <tr>\n",
              "      <th>3</th>\n",
              "      <td>1.397925</td>\n",
              "      <td>2.79585</td>\n",
              "      <td>4.193775</td>\n",
              "      <td>5.5917</td>\n",
              "      <td>6.989625</td>\n",
              "    </tr>\n",
              "    <tr>\n",
              "      <th>4</th>\n",
              "      <td>1.798500</td>\n",
              "      <td>3.59700</td>\n",
              "      <td>5.395500</td>\n",
              "      <td>7.1940</td>\n",
              "      <td>8.992500</td>\n",
              "    </tr>\n",
              "  </tbody>\n",
              "</table>\n",
              "</div>"
            ],
            "text/plain": [
              "   Pot. Altura 1, W  Pot. Altura 2, W  ...  Pot. Altura 4, W  Pot. Altura 5, W\n",
              "0          0.196200           0.39240  ...            0.7848          0.981000\n",
              "1          0.596775           1.19355  ...            2.3871          2.983875\n",
              "2          0.997350           1.99470  ...            3.9894          4.986750\n",
              "3          1.397925           2.79585  ...            5.5917          6.989625\n",
              "4          1.798500           3.59700  ...            7.1940          8.992500\n",
              "\n",
              "[5 rows x 5 columns]"
            ]
          },
          "metadata": {
            "tags": []
          },
          "execution_count": 31
        }
      ]
    },
    {
      "cell_type": "markdown",
      "metadata": {
        "id": "1rt-OQXNtBZY"
      },
      "source": [
        "Continuamos con:\n",
        "\n",
        "1.   Hallar la velocidad del chorro de agua:\n",
        "$$\n",
        "P_{mecanica} = \\rho A V^3\n",
        "$$\n",
        "\n"
      ]
    },
    {
      "cell_type": "code",
      "metadata": {
        "id": "XbPodNbYgCCw",
        "outputId": "f8a82c89-8260-46a4-e4a8-14133adf7719",
        "colab": {
          "base_uri": "https://localhost:8080/",
          "height": 231
        }
      },
      "source": [
        "#Densidad agua \n",
        "rho = 997 #Unidades en Kg/m3\n",
        "\n",
        "#Área transversal de chorro de agua\n",
        "dia_chorro = 0.03\n",
        "A = (np.pi/4)*(dia_chorro**2)\n",
        "\n",
        "#Velocidades Chorro Agua\n",
        "df_pot['Vel. para Pot. 1'] = (df_pot['Pot. Altura 1, W']/(rho*A))**(1/3)\n",
        "df_pot['Vel. para Pot. 2'] = (df_pot['Pot. Altura 2, W']/(rho*A))**(1/3)\n",
        "df_pot['Vel. para Pot. 3'] = (df_pot['Pot. Altura 3, W']/(rho*A))**(1/3)\n",
        "df_pot['Vel. para Pot. 4'] = (df_pot['Pot. Altura 4, W']/(rho*A))**(1/3)\n",
        "df_pot['Vel. para Pot. 5'] = (df_pot['Pot. Altura 5, W']/(rho*A))**(1/3)\n",
        "df_pot.head()"
      ],
      "execution_count": 32,
      "outputs": [
        {
          "output_type": "execute_result",
          "data": {
            "text/html": [
              "<div>\n",
              "<style scoped>\n",
              "    .dataframe tbody tr th:only-of-type {\n",
              "        vertical-align: middle;\n",
              "    }\n",
              "\n",
              "    .dataframe tbody tr th {\n",
              "        vertical-align: top;\n",
              "    }\n",
              "\n",
              "    .dataframe thead th {\n",
              "        text-align: right;\n",
              "    }\n",
              "</style>\n",
              "<table border=\"1\" class=\"dataframe\">\n",
              "  <thead>\n",
              "    <tr style=\"text-align: right;\">\n",
              "      <th></th>\n",
              "      <th>Pot. Altura 1, W</th>\n",
              "      <th>Pot. Altura 2, W</th>\n",
              "      <th>Pot. Altura 3, W</th>\n",
              "      <th>Pot. Altura 4, W</th>\n",
              "      <th>Pot. Altura 5, W</th>\n",
              "      <th>Vel. para Pot. 1</th>\n",
              "      <th>Vel. para Pot. 2</th>\n",
              "      <th>Vel. para Pot. 3</th>\n",
              "      <th>Vel. para Pot. 4</th>\n",
              "      <th>Vel. para Pot. 5</th>\n",
              "    </tr>\n",
              "  </thead>\n",
              "  <tbody>\n",
              "    <tr>\n",
              "      <th>0</th>\n",
              "      <td>0.196200</td>\n",
              "      <td>0.39240</td>\n",
              "      <td>0.588600</td>\n",
              "      <td>0.7848</td>\n",
              "      <td>0.981000</td>\n",
              "      <td>0.652966</td>\n",
              "      <td>0.822685</td>\n",
              "      <td>0.941740</td>\n",
              "      <td>1.036519</td>\n",
              "      <td>1.116556</td>\n",
              "    </tr>\n",
              "    <tr>\n",
              "      <th>1</th>\n",
              "      <td>0.596775</td>\n",
              "      <td>1.19355</td>\n",
              "      <td>1.790325</td>\n",
              "      <td>2.3871</td>\n",
              "      <td>2.983875</td>\n",
              "      <td>0.946080</td>\n",
              "      <td>1.191986</td>\n",
              "      <td>1.364483</td>\n",
              "      <td>1.501808</td>\n",
              "      <td>1.617773</td>\n",
              "    </tr>\n",
              "    <tr>\n",
              "      <th>2</th>\n",
              "      <td>0.997350</td>\n",
              "      <td>1.99470</td>\n",
              "      <td>2.992050</td>\n",
              "      <td>3.9894</td>\n",
              "      <td>4.986750</td>\n",
              "      <td>1.122725</td>\n",
              "      <td>1.414545</td>\n",
              "      <td>1.619249</td>\n",
              "      <td>1.782215</td>\n",
              "      <td>1.919833</td>\n",
              "    </tr>\n",
              "    <tr>\n",
              "      <th>3</th>\n",
              "      <td>1.397925</td>\n",
              "      <td>2.79585</td>\n",
              "      <td>4.193775</td>\n",
              "      <td>5.5917</td>\n",
              "      <td>6.989625</td>\n",
              "      <td>1.256470</td>\n",
              "      <td>1.583053</td>\n",
              "      <td>1.812143</td>\n",
              "      <td>1.994522</td>\n",
              "      <td>2.148533</td>\n",
              "    </tr>\n",
              "    <tr>\n",
              "      <th>4</th>\n",
              "      <td>1.798500</td>\n",
              "      <td>3.59700</td>\n",
              "      <td>5.395500</td>\n",
              "      <td>7.1940</td>\n",
              "      <td>8.992500</td>\n",
              "      <td>1.366557</td>\n",
              "      <td>1.721753</td>\n",
              "      <td>1.970916</td>\n",
              "      <td>2.169273</td>\n",
              "      <td>2.336779</td>\n",
              "    </tr>\n",
              "  </tbody>\n",
              "</table>\n",
              "</div>"
            ],
            "text/plain": [
              "   Pot. Altura 1, W  Pot. Altura 2, W  ...  Vel. para Pot. 4  Vel. para Pot. 5\n",
              "0          0.196200           0.39240  ...          1.036519          1.116556\n",
              "1          0.596775           1.19355  ...          1.501808          1.617773\n",
              "2          0.997350           1.99470  ...          1.782215          1.919833\n",
              "3          1.397925           2.79585  ...          1.994522          2.148533\n",
              "4          1.798500           3.59700  ...          2.169273          2.336779\n",
              "\n",
              "[5 rows x 10 columns]"
            ]
          },
          "metadata": {
            "tags": []
          },
          "execution_count": 32
        }
      ]
    },
    {
      "cell_type": "markdown",
      "metadata": {
        "id": "gmJCrPOiusFX"
      },
      "source": [
        "Finalizamos con:\n",
        "\n",
        "1.   Hallar el respectivo caudal requerido:\n",
        "$$\n",
        "Q = VA\n",
        "$$\n"
      ]
    },
    {
      "cell_type": "code",
      "metadata": {
        "id": "Dz4NvjmhuxaX",
        "outputId": "fe9b5c25-bb09-46b1-90b2-79ad6b903ea5",
        "colab": {
          "base_uri": "https://localhost:8080/",
          "height": 251
        }
      },
      "source": [
        "#Caudales\n",
        "df_pot['Caudal para Pot. 1'] = df_pot['Vel. para Pot. 1']*A\n",
        "df_pot['Caudal para Pot. 2'] = df_pot['Vel. para Pot. 2']*A\n",
        "df_pot['Caudal para Pot. 3'] = df_pot['Vel. para Pot. 3']*A\n",
        "df_pot['Caudal para Pot. 4'] = df_pot['Vel. para Pot. 4']*A\n",
        "df_pot['Caudal para Pot. 5'] = df_pot['Vel. para Pot. 5']*A\n",
        "df_pot.head()"
      ],
      "execution_count": 33,
      "outputs": [
        {
          "output_type": "execute_result",
          "data": {
            "text/html": [
              "<div>\n",
              "<style scoped>\n",
              "    .dataframe tbody tr th:only-of-type {\n",
              "        vertical-align: middle;\n",
              "    }\n",
              "\n",
              "    .dataframe tbody tr th {\n",
              "        vertical-align: top;\n",
              "    }\n",
              "\n",
              "    .dataframe thead th {\n",
              "        text-align: right;\n",
              "    }\n",
              "</style>\n",
              "<table border=\"1\" class=\"dataframe\">\n",
              "  <thead>\n",
              "    <tr style=\"text-align: right;\">\n",
              "      <th></th>\n",
              "      <th>Pot. Altura 1, W</th>\n",
              "      <th>Pot. Altura 2, W</th>\n",
              "      <th>Pot. Altura 3, W</th>\n",
              "      <th>Pot. Altura 4, W</th>\n",
              "      <th>Pot. Altura 5, W</th>\n",
              "      <th>Vel. para Pot. 1</th>\n",
              "      <th>Vel. para Pot. 2</th>\n",
              "      <th>Vel. para Pot. 3</th>\n",
              "      <th>Vel. para Pot. 4</th>\n",
              "      <th>Vel. para Pot. 5</th>\n",
              "      <th>Caudal para Pot. 1</th>\n",
              "      <th>Caudal para Pot. 2</th>\n",
              "      <th>Caudal para Pot. 3</th>\n",
              "      <th>Caudal para Pot. 4</th>\n",
              "      <th>Caudal para Pot. 5</th>\n",
              "    </tr>\n",
              "  </thead>\n",
              "  <tbody>\n",
              "    <tr>\n",
              "      <th>0</th>\n",
              "      <td>0.196200</td>\n",
              "      <td>0.39240</td>\n",
              "      <td>0.588600</td>\n",
              "      <td>0.7848</td>\n",
              "      <td>0.981000</td>\n",
              "      <td>0.652966</td>\n",
              "      <td>0.822685</td>\n",
              "      <td>0.941740</td>\n",
              "      <td>1.036519</td>\n",
              "      <td>1.116556</td>\n",
              "      <td>0.000462</td>\n",
              "      <td>0.000582</td>\n",
              "      <td>0.000666</td>\n",
              "      <td>0.000733</td>\n",
              "      <td>0.000789</td>\n",
              "    </tr>\n",
              "    <tr>\n",
              "      <th>1</th>\n",
              "      <td>0.596775</td>\n",
              "      <td>1.19355</td>\n",
              "      <td>1.790325</td>\n",
              "      <td>2.3871</td>\n",
              "      <td>2.983875</td>\n",
              "      <td>0.946080</td>\n",
              "      <td>1.191986</td>\n",
              "      <td>1.364483</td>\n",
              "      <td>1.501808</td>\n",
              "      <td>1.617773</td>\n",
              "      <td>0.000669</td>\n",
              "      <td>0.000843</td>\n",
              "      <td>0.000964</td>\n",
              "      <td>0.001062</td>\n",
              "      <td>0.001144</td>\n",
              "    </tr>\n",
              "    <tr>\n",
              "      <th>2</th>\n",
              "      <td>0.997350</td>\n",
              "      <td>1.99470</td>\n",
              "      <td>2.992050</td>\n",
              "      <td>3.9894</td>\n",
              "      <td>4.986750</td>\n",
              "      <td>1.122725</td>\n",
              "      <td>1.414545</td>\n",
              "      <td>1.619249</td>\n",
              "      <td>1.782215</td>\n",
              "      <td>1.919833</td>\n",
              "      <td>0.000794</td>\n",
              "      <td>0.001000</td>\n",
              "      <td>0.001145</td>\n",
              "      <td>0.001260</td>\n",
              "      <td>0.001357</td>\n",
              "    </tr>\n",
              "    <tr>\n",
              "      <th>3</th>\n",
              "      <td>1.397925</td>\n",
              "      <td>2.79585</td>\n",
              "      <td>4.193775</td>\n",
              "      <td>5.5917</td>\n",
              "      <td>6.989625</td>\n",
              "      <td>1.256470</td>\n",
              "      <td>1.583053</td>\n",
              "      <td>1.812143</td>\n",
              "      <td>1.994522</td>\n",
              "      <td>2.148533</td>\n",
              "      <td>0.000888</td>\n",
              "      <td>0.001119</td>\n",
              "      <td>0.001281</td>\n",
              "      <td>0.001410</td>\n",
              "      <td>0.001519</td>\n",
              "    </tr>\n",
              "    <tr>\n",
              "      <th>4</th>\n",
              "      <td>1.798500</td>\n",
              "      <td>3.59700</td>\n",
              "      <td>5.395500</td>\n",
              "      <td>7.1940</td>\n",
              "      <td>8.992500</td>\n",
              "      <td>1.366557</td>\n",
              "      <td>1.721753</td>\n",
              "      <td>1.970916</td>\n",
              "      <td>2.169273</td>\n",
              "      <td>2.336779</td>\n",
              "      <td>0.000966</td>\n",
              "      <td>0.001217</td>\n",
              "      <td>0.001393</td>\n",
              "      <td>0.001533</td>\n",
              "      <td>0.001652</td>\n",
              "    </tr>\n",
              "  </tbody>\n",
              "</table>\n",
              "</div>"
            ],
            "text/plain": [
              "   Pot. Altura 1, W  Pot. Altura 2, W  ...  Caudal para Pot. 4  Caudal para Pot. 5\n",
              "0          0.196200           0.39240  ...            0.000733            0.000789\n",
              "1          0.596775           1.19355  ...            0.001062            0.001144\n",
              "2          0.997350           1.99470  ...            0.001260            0.001357\n",
              "3          1.397925           2.79585  ...            0.001410            0.001519\n",
              "4          1.798500           3.59700  ...            0.001533            0.001652\n",
              "\n",
              "[5 rows x 15 columns]"
            ]
          },
          "metadata": {
            "tags": []
          },
          "execution_count": 33
        }
      ]
    },
    {
      "cell_type": "code",
      "metadata": {
        "id": "3L8rtWrLvGUd",
        "outputId": "2a098c5d-a4fd-40d5-cd97-a9474812e8d5",
        "colab": {
          "base_uri": "https://localhost:8080/",
          "height": 322
        }
      },
      "source": [
        "plt.scatter(df_pot['Caudal para Pot. 1'], df_pot['Pot. Altura 1, W'], color='black', marker='o', s=3)\n",
        "\n",
        "plt.rc('font', family='Helvetica')\n",
        "plt.rcParams['axes.axisbelow'] = True;\n",
        "\n",
        "plt.title('Relación Caudal vs. Potencia', fontname=\"Helvetica\", fontsize=15);\n",
        "plt.ylabel('Potencia, $W$', fontname=\"Helvetica\", fontsize=13);\n",
        "plt.xlabel('Caudal, $m^3/s$', fontname=\"Helvetica\", fontsize=13);\n",
        "\n",
        "ax1.tick_params(direction='inout', length=6, width=1, grid_alpha=0.5)\n",
        "\n",
        "plt.xticks(rotation=0)\n",
        "plt.grid(True);\n",
        "plt.legend(fontsize=10.5, loc='lower right');\n",
        "plt.tight_layout;"
      ],
      "execution_count": 34,
      "outputs": [
        {
          "output_type": "stream",
          "text": [
            "No handles with labels found to put in legend.\n"
          ],
          "name": "stderr"
        },
        {
          "output_type": "display_data",
          "data": {
            "image/png": "[encoded data removed]",
            "text/plain": [
              "<Figure size 432x288 with 1 Axes>"
            ]
          },
          "metadata": {
            "tags": [],
            "needs_background": "light"
          }
        }
      ]
    }
  ]
}